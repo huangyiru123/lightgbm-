{
 "cells": [
  {
   "cell_type": "code",
   "execution_count": 7,
   "id": "3d4275ad-e58e-4108-95bb-ef1017c9707b",
   "metadata": {},
   "outputs": [],
   "source": [
    "import pandas as pd\n",
    "from sklearn.model_selection import train_test_split\n",
    "from sklearn.ensemble import RandomForestClassifier\n",
    "from sklearn.metrics import classification_report, confusion_matrix, roc_curve, roc_auc_score, f1_score\n",
    "import matplotlib.pyplot as plt\n",
    "import seaborn as sns\n",
    "import joblib\n"
   ]
  },
  {
   "cell_type": "code",
   "execution_count": 8,
   "id": "f00e337a-9347-4821-ad61-134655c2d59a",
   "metadata": {},
   "outputs": [],
   "source": [
    "# import pandas as pd\n",
    "# from sklearn.feature_selection import RFE\n",
    "# from sklearn.ensemble import RandomForestClassifier\n",
    "# # 假设你的CSV文件名为'data.csv'\n",
    "# # 并且目标变量的列名为'target'\n",
    "# df = pd.read_csv('train_dataset.csv')\n",
    "\n",
    "# # 分离特征和目标变量\n",
    "# X = data.iloc[:, :-1]\n",
    "# y = data.iloc[:, -1]\n",
    "\n",
    "# # 使用RandomForestClassifier作为基模型\n",
    "# model = RandomForestClassifier()\n",
    "\n",
    "# # 使用RFE选择50个特征\n",
    "# selector = RFE(model, n_features_to_select=50, step=1)\n",
    "# selector = selector.fit(X, y)\n",
    "\n",
    "# # 获取选中的特征\n",
    "# selected_features = X.columns[selector.support_]\n",
    "\n",
    "# # 打印选中的特征\n",
    "# print(\"Selected features:\")\n",
    "# print(selected_features)\n",
    "\n",
    "# # 创建一个包含选中特征的新数据框\n",
    "# X_selected = X[selected_features]\n",
    "\n",
    "# # 保存新数据框到新的CSV文件\n",
    "# X_selected['target'] = y\n",
    "# X_selected.to_csv('data-RFE.csv', index=False)"
   ]
  },
  {
   "cell_type": "code",
   "execution_count": 9,
   "id": "e810b526-a245-4524-b07e-bb184318648a",
   "metadata": {},
   "outputs": [],
   "source": [
    "# # 预测集生成\n",
    "# import pandas as pd\n",
    "\n",
    "# # 加载保存的训练集RFE结果的CSV文件\n",
    "# df_rfe_results = pd.read_csv('data-RFE.csv')\n",
    "\n",
    "# # 获取选中的特征列表\n",
    "# selected_features = df_rfe_results.columns[:-1]  # 假设最后一列是目标变量，所以去掉最后一列\n",
    "\n",
    "# # 打印选中的特征\n",
    "# print(\"Selected features:\")\n",
    "# print(selected_features)\n",
    "\n",
    "# # 加载预测集数据\n",
    "# df_predict = pd.read_csv('test_dataset.csv')\n",
    "\n",
    "# # 保留预测集中与训练集相同的选中特征\n",
    "# X_predict = df_predict[selected_features]\n",
    "\n",
    "# # 保存预测集的特征到新的CSV文件\n",
    "# X_predict.to_csv('test_dataset-RFE.csv', index=False)\n"
   ]
  },
  {
   "cell_type": "code",
   "execution_count": 10,
   "id": "27fd30cb-1c84-40b1-8aac-7acd1ae04721",
   "metadata": {},
   "outputs": [],
   "source": [
    "# 读取数据\n",
    "data = pd.read_csv('data-RFE.csv')\n"
   ]
  },
  {
   "cell_type": "code",
   "execution_count": null,
   "id": "7ba6e133-e5a9-45be-b43e-1d2aac8770b2",
   "metadata": {},
   "outputs": [],
   "source": []
  },
  {
   "cell_type": "code",
   "execution_count": 11,
   "id": "7e5ecec8-ffc4-4737-ade1-5b891e7364b9",
   "metadata": {},
   "outputs": [],
   "source": [
    "# 假设目标变量是最后一列，特征变量是其他列\n",
    "X = data.iloc[:, :-1]\n",
    "y = data.iloc[:, -1]\n"
   ]
  },
  {
   "cell_type": "code",
   "execution_count": 12,
   "id": "c8dccac2-5963-4624-a683-f5384d12f1bb",
   "metadata": {},
   "outputs": [],
   "source": [
    "# 划分训练集和测试集\n",
    "X_train, X_test, y_train, y_test = train_test_split(X, y, test_size=0.4, random_state=42)\n"
   ]
  },
  {
   "cell_type": "code",
   "execution_count": 13,
   "id": "a8d86f1c-aed1-4dd7-a83b-a0c4368f8eac",
   "metadata": {},
   "outputs": [],
   "source": [
    "# # 绘制目标值分布直方图\n",
    "# plt.figure(figsize=(14, 8), dpi=100)\n",
    "# plt.hist(y, bins=30, color='plum', edgecolor='black', alpha=0.7)\n",
    "# plt.xlabel('Target Value', fontsize=14)\n",
    "# plt.ylabel('Frequency', fontsize=14)\n",
    "# plt.title('Distribution of Target Values', fontsize=16)\n",
    "# plt.grid(True)\n",
    "# plt.savefig('Target_Value_Distribution.png', dpi=300)\n",
    "# plt.show()\n",
    "# plt.close()"
   ]
  },
  {
   "cell_type": "code",
   "execution_count": 16,
   "id": "f4a82ce5-b3fd-4382-80d7-1d672d53a42b",
   "metadata": {},
   "outputs": [
    {
     "name": "stdout",
     "output_type": "stream",
     "text": [
      "Collecting lightgbm\n",
      "  Downloading lightgbm-4.4.0.tar.gz (1.7 MB)\n",
      "\u001b[2K     \u001b[90m━━━━━━━━━━━━━━━━━━━━━━━━━━━━━━━━━━━━━━━━\u001b[0m \u001b[32m1.7/1.7 MB\u001b[0m \u001b[31m2.7 MB/s\u001b[0m eta \u001b[36m0:00:00\u001b[0m00:01\u001b[0m00:01\u001b[0m0m\n",
      "\u001b[?25h  Installing build dependencies ... \u001b[?25ldone\n",
      "\u001b[?25h  Getting requirements to build wheel ... \u001b[?25ldone\n",
      "\u001b[?25h  Installing backend dependencies ... \u001b[?25ldone\n",
      "\u001b[?25h  Preparing metadata (pyproject.toml) ... \u001b[?25ldone\n",
      "\u001b[?25hRequirement already satisfied: numpy>=1.17.0 in /home/customer/anaconda3/lib/python3.11/site-packages (from lightgbm) (1.26.4)\n",
      "Requirement already satisfied: scipy in /home/customer/anaconda3/lib/python3.11/site-packages (from lightgbm) (1.13.1)\n",
      "Building wheels for collected packages: lightgbm\n",
      "  Building wheel for lightgbm (pyproject.toml) ... \u001b[?25ldone\n",
      "\u001b[?25h  Created wheel for lightgbm: filename=lightgbm-4.4.0-py3-none-linux_x86_64.whl size=3091329 sha256=c48e3d45dfc6121ba1d49587d6c2c882584a89ec17e6639f7436a9f4d6be8aa8\n",
      "  Stored in directory: /home/customer/.cache/pip/wheels/61/69/b2/4cb581656980662b1585f36e62c09dc4bd6d9c1d400fc042fb\n",
      "Successfully built lightgbm\n",
      "Installing collected packages: lightgbm\n",
      "Successfully installed lightgbm-4.4.0\n"
     ]
    }
   ],
   "source": [
    "!pip install --upgrade lightgbm\n",
    "\n"
   ]
  },
  {
   "cell_type": "code",
   "execution_count": 19,
   "id": "26a26c11-fe86-4287-89e0-0130a84ff142",
   "metadata": {},
   "outputs": [
    {
     "name": "stdout",
     "output_type": "stream",
     "text": [
      "[LightGBM] [Warning] Found whitespace in feature_names, replace with underlines\n",
      "[LightGBM] [Info] Number of positive: 126, number of negative: 84\n",
      "[LightGBM] [Info] Auto-choosing col-wise multi-threading, the overhead of testing was 0.001244 seconds.\n",
      "You can set `force_col_wise=true` to remove the overhead.\n",
      "[LightGBM] [Info] Total Bins 2297\n",
      "[LightGBM] [Info] Number of data points in the train set: 210, number of used features: 50\n",
      "[LightGBM] [Warning] Found whitespace in feature_names, replace with underlines\n",
      "[LightGBM] [Info] [binary:BoostFromScore]: pavg=0.600000 -> initscore=0.405465\n",
      "[LightGBM] [Info] Start training from score 0.405465\n",
      "[LightGBM] [Warning] No further splits with positive gain, best gain: -inf\n",
      "Training until validation scores don't improve for 10 rounds\n",
      "[LightGBM] [Warning] No further splits with positive gain, best gain: -inf\n",
      "[LightGBM] [Warning] No further splits with positive gain, best gain: -inf\n",
      "[LightGBM] [Warning] No further splits with positive gain, best gain: -inf\n",
      "[LightGBM] [Warning] No further splits with positive gain, best gain: -inf\n",
      "[LightGBM] [Warning] No further splits with positive gain, best gain: -inf\n",
      "[LightGBM] [Warning] No further splits with positive gain, best gain: -inf\n",
      "[LightGBM] [Warning] No further splits with positive gain, best gain: -inf\n",
      "[LightGBM] [Warning] No further splits with positive gain, best gain: -inf\n",
      "[LightGBM] [Warning] No further splits with positive gain, best gain: -inf\n",
      "[LightGBM] [Warning] No further splits with positive gain, best gain: -inf\n",
      "[LightGBM] [Warning] No further splits with positive gain, best gain: -inf\n",
      "[LightGBM] [Warning] No further splits with positive gain, best gain: -inf\n",
      "[LightGBM] [Warning] No further splits with positive gain, best gain: -inf\n",
      "[LightGBM] [Warning] No further splits with positive gain, best gain: -inf\n",
      "[LightGBM] [Warning] No further splits with positive gain, best gain: -inf\n",
      "[LightGBM] [Warning] No further splits with positive gain, best gain: -inf\n",
      "[LightGBM] [Warning] No further splits with positive gain, best gain: -inf\n",
      "[LightGBM] [Warning] No further splits with positive gain, best gain: -inf\n",
      "[LightGBM] [Warning] No further splits with positive gain, best gain: -inf\n",
      "[LightGBM] [Warning] No further splits with positive gain, best gain: -inf\n",
      "[LightGBM] [Warning] No further splits with positive gain, best gain: -inf\n",
      "[LightGBM] [Warning] No further splits with positive gain, best gain: -inf\n",
      "[LightGBM] [Warning] No further splits with positive gain, best gain: -inf\n",
      "[LightGBM] [Warning] No further splits with positive gain, best gain: -inf\n",
      "[LightGBM] [Warning] No further splits with positive gain, best gain: -inf\n",
      "[LightGBM] [Warning] No further splits with positive gain, best gain: -inf\n",
      "[LightGBM] [Warning] No further splits with positive gain, best gain: -inf\n",
      "[LightGBM] [Warning] No further splits with positive gain, best gain: -inf\n",
      "[LightGBM] [Warning] No further splits with positive gain, best gain: -inf\n",
      "[LightGBM] [Warning] No further splits with positive gain, best gain: -inf\n",
      "[LightGBM] [Warning] No further splits with positive gain, best gain: -inf\n",
      "[LightGBM] [Warning] No further splits with positive gain, best gain: -inf\n",
      "[LightGBM] [Warning] No further splits with positive gain, best gain: -inf\n",
      "[LightGBM] [Warning] No further splits with positive gain, best gain: -inf\n",
      "[LightGBM] [Warning] No further splits with positive gain, best gain: -inf\n",
      "[LightGBM] [Warning] No further splits with positive gain, best gain: -inf\n",
      "[LightGBM] [Warning] No further splits with positive gain, best gain: -inf\n",
      "[LightGBM] [Warning] No further splits with positive gain, best gain: -inf\n",
      "[LightGBM] [Warning] No further splits with positive gain, best gain: -inf\n",
      "[LightGBM] [Warning] No further splits with positive gain, best gain: -inf\n",
      "[LightGBM] [Warning] No further splits with positive gain, best gain: -inf\n",
      "[LightGBM] [Warning] No further splits with positive gain, best gain: -inf\n",
      "[LightGBM] [Warning] No further splits with positive gain, best gain: -inf\n",
      "[LightGBM] [Warning] No further splits with positive gain, best gain: -inf\n",
      "[LightGBM] [Warning] No further splits with positive gain, best gain: -inf\n",
      "[LightGBM] [Warning] No further splits with positive gain, best gain: -inf\n",
      "[LightGBM] [Warning] No further splits with positive gain, best gain: -inf\n",
      "[LightGBM] [Warning] No further splits with positive gain, best gain: -inf\n",
      "[LightGBM] [Warning] No further splits with positive gain, best gain: -inf\n",
      "[LightGBM] [Warning] No further splits with positive gain, best gain: -inf\n",
      "[LightGBM] [Warning] No further splits with positive gain, best gain: -inf\n",
      "[LightGBM] [Warning] No further splits with positive gain, best gain: -inf\n",
      "[LightGBM] [Warning] No further splits with positive gain, best gain: -inf\n",
      "[LightGBM] [Warning] No further splits with positive gain, best gain: -inf\n",
      "[LightGBM] [Warning] No further splits with positive gain, best gain: -inf\n",
      "[LightGBM] [Warning] No further splits with positive gain, best gain: -inf\n",
      "[LightGBM] [Warning] No further splits with positive gain, best gain: -inf\n",
      "[LightGBM] [Warning] No further splits with positive gain, best gain: -inf\n",
      "[LightGBM] [Warning] No further splits with positive gain, best gain: -inf\n",
      "[LightGBM] [Warning] No further splits with positive gain, best gain: -inf\n",
      "[LightGBM] [Warning] No further splits with positive gain, best gain: -inf\n",
      "[LightGBM] [Warning] No further splits with positive gain, best gain: -inf\n",
      "[LightGBM] [Warning] No further splits with positive gain, best gain: -inf\n",
      "[LightGBM] [Warning] No further splits with positive gain, best gain: -inf\n",
      "[LightGBM] [Warning] No further splits with positive gain, best gain: -inf\n",
      "[LightGBM] [Warning] No further splits with positive gain, best gain: -inf\n",
      "[LightGBM] [Warning] No further splits with positive gain, best gain: -inf\n",
      "[LightGBM] [Warning] No further splits with positive gain, best gain: -inf\n",
      "[LightGBM] [Warning] No further splits with positive gain, best gain: -inf\n",
      "[LightGBM] [Warning] No further splits with positive gain, best gain: -inf\n",
      "[LightGBM] [Warning] No further splits with positive gain, best gain: -inf\n",
      "[LightGBM] [Warning] No further splits with positive gain, best gain: -inf\n",
      "[LightGBM] [Warning] No further splits with positive gain, best gain: -inf\n",
      "[LightGBM] [Warning] No further splits with positive gain, best gain: -inf\n",
      "[LightGBM] [Warning] No further splits with positive gain, best gain: -inf\n",
      "[LightGBM] [Warning] No further splits with positive gain, best gain: -inf\n",
      "[LightGBM] [Warning] No further splits with positive gain, best gain: -inf\n",
      "[LightGBM] [Warning] No further splits with positive gain, best gain: -inf\n",
      "[LightGBM] [Warning] No further splits with positive gain, best gain: -inf\n",
      "[LightGBM] [Warning] No further splits with positive gain, best gain: -inf\n",
      "[LightGBM] [Warning] No further splits with positive gain, best gain: -inf\n",
      "[LightGBM] [Warning] No further splits with positive gain, best gain: -inf\n",
      "[LightGBM] [Warning] No further splits with positive gain, best gain: -inf\n",
      "[LightGBM] [Warning] No further splits with positive gain, best gain: -inf\n",
      "[LightGBM] [Warning] No further splits with positive gain, best gain: -inf\n",
      "[LightGBM] [Warning] No further splits with positive gain, best gain: -inf\n",
      "[LightGBM] [Warning] No further splits with positive gain, best gain: -inf\n",
      "[LightGBM] [Warning] No further splits with positive gain, best gain: -inf\n",
      "[LightGBM] [Warning] No further splits with positive gain, best gain: -inf\n",
      "[LightGBM] [Warning] No further splits with positive gain, best gain: -inf\n",
      "[LightGBM] [Warning] No further splits with positive gain, best gain: -inf\n",
      "[LightGBM] [Warning] No further splits with positive gain, best gain: -inf\n",
      "[LightGBM] [Warning] No further splits with positive gain, best gain: -inf\n",
      "[LightGBM] [Warning] No further splits with positive gain, best gain: -inf\n",
      "[LightGBM] [Warning] No further splits with positive gain, best gain: -inf\n",
      "[LightGBM] [Warning] No further splits with positive gain, best gain: -inf\n",
      "[LightGBM] [Warning] No further splits with positive gain, best gain: -inf\n",
      "[LightGBM] [Warning] No further splits with positive gain, best gain: -inf\n",
      "[LightGBM] [Warning] No further splits with positive gain, best gain: -inf\n",
      "Did not meet early stopping. Best iteration is:\n",
      "[98]\tvalid_0's binary_logloss: 0.229355\n",
      "Accuracy: 0.8936170212765957\n",
      "Confusion Matrix:\n",
      "[[42  7]\n",
      " [ 8 84]]\n",
      "Classification Report:\n",
      "              precision    recall  f1-score   support\n",
      "\n",
      "           0       0.84      0.86      0.85        49\n",
      "           1       0.92      0.91      0.92        92\n",
      "\n",
      "    accuracy                           0.89       141\n",
      "   macro avg       0.88      0.89      0.88       141\n",
      "weighted avg       0.89      0.89      0.89       141\n",
      "\n"
     ]
    }
   ],
   "source": [
    "import pandas as pd\n",
    "import lightgbm as lgb\n",
    "from sklearn.model_selection import train_test_split\n",
    "from sklearn.metrics import accuracy_score, confusion_matrix, classification_report\n",
    "# 定义 LightGBM 的数据集\n",
    "train_data = lgb.Dataset(X_train, label=y_train)\n",
    "test_data = lgb.Dataset(X_test, label=y_test, reference=train_data)\n",
    "\n",
    "# 设置 LightGBM 的参数\n",
    "params = {\n",
    "    'objective': 'binary',\n",
    "    'metric': 'binary_logloss',\n",
    "    'boosting_type': 'gbdt',\n",
    "    'num_leaves': 31,\n",
    "    'learning_rate': 0.05,\n",
    "    'feature_fraction': 0.9\n",
    "}\n",
    "\n",
    "# 使用回调参数进行训练并实现提前停止\n",
    "num_round = 100  # 迭代次数\n",
    "early_stopping_callback = lgb.early_stopping(stopping_rounds=10)\n",
    "bst = lgb.train(params, train_data, num_boost_round=num_round, valid_sets=[test_data], callbacks=[early_stopping_callback])\n",
    "\n",
    "# 在测试集上进行预测\n",
    "y_pred = bst.predict(X_test, num_iteration=bst.best_iteration)\n",
    "# 将预测结果转为二分类的结果（0或1）\n",
    "y_pred_binary = [1 if pred > 0.5 else 0 for pred in y_pred]\n",
    "\n",
    "# 评估模型性能\n",
    "accuracy = accuracy_score(y_test, y_pred_binary)\n",
    "conf_matrix = confusion_matrix(y_test, y_pred_binary)\n",
    "class_report = classification_report(y_test, y_pred_binary)\n",
    "\n",
    "print(f\"Accuracy: {accuracy}\")\n",
    "print(\"Confusion Matrix:\")\n",
    "print(conf_matrix)\n",
    "print(\"Classification Report:\")\n",
    "print(class_report)\n"
   ]
  },
  {
   "cell_type": "code",
   "execution_count": 21,
   "id": "9f26d66b-a895-4ed2-be86-06d71bfe50be",
   "metadata": {
    "scrolled": true
   },
   "outputs": [
    {
     "name": "stdout",
     "output_type": "stream",
     "text": [
      "   uuid     Label\n",
      "0     1  0.848725\n",
      "1     2  0.838199\n",
      "2     3  0.838199\n",
      "3     4  0.838199\n",
      "4     5  0.838199\n"
     ]
    }
   ],
   "source": [
    "# 加载新数据集\n",
    "new_data = pd.read_csv('test_dataset-RFE.csv')\n",
    "\n",
    "# 假设 new_data 是包含特征的 DataFrame，需要与训练时的特征格式一致\n",
    "\n",
    "# 使用已训练好的模型进行预测\n",
    "y_pred_new = bst.predict(new_data, num_iteration=bst.best_iteration)\n",
    "\n",
    "# 创建包含预测结果的 DataFrame\n",
    "result_df = pd.DataFrame({'uuid': range(1, len(new_data) + 1), 'Label': y_pred_new})\n",
    "\n",
    "# 将结果保存为 CSV 文件\n",
    "result_df.to_csv('prediction_results.csv', index=False)\n",
    "\n",
    "# 打印预测结果的前几行\n",
    "print(result_df.head())"
   ]
  },
  {
   "cell_type": "code",
   "execution_count": 22,
   "id": "4264274e-5430-452b-aef1-196b4d10a37a",
   "metadata": {},
   "outputs": [
    {
     "name": "stdout",
     "output_type": "stream",
     "text": [
      "   uuid  Label\n",
      "0     1      1\n",
      "1     2      1\n",
      "2     3      1\n",
      "3     4      1\n",
      "4     5      1\n"
     ]
    }
   ],
   "source": [
    "\n",
    "# 使用已训练好的模型进行预测\n",
    "y_pred_proba = bst.predict(new_data, num_iteration=bst.best_iteration)\n",
    "\n",
    "# 设置阈值\n",
    "threshold = 0.5  # 例如，设置0.5作为阈值\n",
    "\n",
    "# 将概率转换为二分类结果（0或1）\n",
    "y_pred_binary = [1 if pred > threshold else 0 for pred in y_pred_proba]\n",
    "\n",
    "# 创建包含预测结果的 DataFrame\n",
    "result_df = pd.DataFrame({'uuid': range(1, len(new_data) + 1), 'Label': y_pred_binary})\n",
    "\n",
    "# 将结果保存为 CSV 文件\n",
    "result_df.to_csv('prediction_results.csv', index=False)\n",
    "\n",
    "# 打印预测结果的前几行\n",
    "print(result_df.head())"
   ]
  },
  {
   "cell_type": "code",
   "execution_count": 24,
   "id": "6df3f06b-6c22-48a3-89c3-32f637135911",
   "metadata": {},
   "outputs": [
    {
     "name": "stderr",
     "output_type": "stream",
     "text": [
      "[LightGBM] [Fatal] Could not open lightgbm.txt\n"
     ]
    },
    {
     "ename": "LightGBMError",
     "evalue": "Could not open lightgbm.txt",
     "output_type": "error",
     "traceback": [
      "\u001b[0;31m---------------------------------------------------------------------------\u001b[0m",
      "\u001b[0;31mLightGBMError\u001b[0m                             Traceback (most recent call last)",
      "Cell \u001b[0;32mIn[24], line 2\u001b[0m\n\u001b[1;32m      1\u001b[0m \u001b[38;5;66;03m# 加载模型\u001b[39;00m\n\u001b[0;32m----> 2\u001b[0m bst \u001b[38;5;241m=\u001b[39m lgb\u001b[38;5;241m.\u001b[39mBooster(model_file\u001b[38;5;241m=\u001b[39m\u001b[38;5;124m'\u001b[39m\u001b[38;5;124mlightgbm.txt\u001b[39m\u001b[38;5;124m'\u001b[39m)\n",
      "File \u001b[0;32m~/anaconda3/envs/mlenv/lib/python3.12/site-packages/lightgbm/basic.py:3668\u001b[0m, in \u001b[0;36mBooster.__init__\u001b[0;34m(self, params, train_set, model_file, model_str)\u001b[0m\n\u001b[1;32m   3665\u001b[0m \u001b[38;5;28;01melif\u001b[39;00m model_file \u001b[38;5;129;01mis\u001b[39;00m \u001b[38;5;129;01mnot\u001b[39;00m \u001b[38;5;28;01mNone\u001b[39;00m:\n\u001b[1;32m   3666\u001b[0m     \u001b[38;5;66;03m# Prediction task\u001b[39;00m\n\u001b[1;32m   3667\u001b[0m     out_num_iterations \u001b[38;5;241m=\u001b[39m ctypes\u001b[38;5;241m.\u001b[39mc_int(\u001b[38;5;241m0\u001b[39m)\n\u001b[0;32m-> 3668\u001b[0m     _safe_call(\n\u001b[1;32m   3669\u001b[0m         _LIB\u001b[38;5;241m.\u001b[39mLGBM_BoosterCreateFromModelfile(\n\u001b[1;32m   3670\u001b[0m             _c_str(\u001b[38;5;28mstr\u001b[39m(model_file)),\n\u001b[1;32m   3671\u001b[0m             ctypes\u001b[38;5;241m.\u001b[39mbyref(out_num_iterations),\n\u001b[1;32m   3672\u001b[0m             ctypes\u001b[38;5;241m.\u001b[39mbyref(\u001b[38;5;28mself\u001b[39m\u001b[38;5;241m.\u001b[39m_handle),\n\u001b[1;32m   3673\u001b[0m         )\n\u001b[1;32m   3674\u001b[0m     )\n\u001b[1;32m   3675\u001b[0m     out_num_class \u001b[38;5;241m=\u001b[39m ctypes\u001b[38;5;241m.\u001b[39mc_int(\u001b[38;5;241m0\u001b[39m)\n\u001b[1;32m   3676\u001b[0m     _safe_call(\n\u001b[1;32m   3677\u001b[0m         _LIB\u001b[38;5;241m.\u001b[39mLGBM_BoosterGetNumClasses(\n\u001b[1;32m   3678\u001b[0m             \u001b[38;5;28mself\u001b[39m\u001b[38;5;241m.\u001b[39m_handle,\n\u001b[1;32m   3679\u001b[0m             ctypes\u001b[38;5;241m.\u001b[39mbyref(out_num_class),\n\u001b[1;32m   3680\u001b[0m         )\n\u001b[1;32m   3681\u001b[0m     )\n",
      "File \u001b[0;32m~/anaconda3/envs/mlenv/lib/python3.12/site-packages/lightgbm/basic.py:294\u001b[0m, in \u001b[0;36m_safe_call\u001b[0;34m(ret)\u001b[0m\n\u001b[1;32m    286\u001b[0m \u001b[38;5;250m\u001b[39m\u001b[38;5;124;03m\"\"\"Check the return value from C API call.\u001b[39;00m\n\u001b[1;32m    287\u001b[0m \n\u001b[1;32m    288\u001b[0m \u001b[38;5;124;03mParameters\u001b[39;00m\n\u001b[0;32m   (...)\u001b[0m\n\u001b[1;32m    291\u001b[0m \u001b[38;5;124;03m    The return value from C API calls.\u001b[39;00m\n\u001b[1;32m    292\u001b[0m \u001b[38;5;124;03m\"\"\"\u001b[39;00m\n\u001b[1;32m    293\u001b[0m \u001b[38;5;28;01mif\u001b[39;00m ret \u001b[38;5;241m!=\u001b[39m \u001b[38;5;241m0\u001b[39m:\n\u001b[0;32m--> 294\u001b[0m     \u001b[38;5;28;01mraise\u001b[39;00m LightGBMError(_LIB\u001b[38;5;241m.\u001b[39mLGBM_GetLastError()\u001b[38;5;241m.\u001b[39mdecode(\u001b[38;5;124m\"\u001b[39m\u001b[38;5;124mutf-8\u001b[39m\u001b[38;5;124m\"\u001b[39m))\n",
      "\u001b[0;31mLightGBMError\u001b[0m: Could not open lightgbm.txt"
     ]
    }
   ],
   "source": [
    "# 加载模型\n",
    "bst = lgb.Booster(model_file='lightgbm.txt')\n",
    "\n"
   ]
  }
 ],
 "metadata": {
  "kernelspec": {
   "display_name": "mlenv",
   "language": "python",
   "name": "mlenv"
  },
  "language_info": {
   "codemirror_mode": {
    "name": "ipython",
    "version": 3
   },
   "file_extension": ".py",
   "mimetype": "text/x-python",
   "name": "python",
   "nbconvert_exporter": "python",
   "pygments_lexer": "ipython3",
   "version": "3.12.4"
  }
 },
 "nbformat": 4,
 "nbformat_minor": 5
}
